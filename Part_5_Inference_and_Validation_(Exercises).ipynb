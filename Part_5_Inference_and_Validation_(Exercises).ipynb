{
  "cells": [
    {
      "cell_type": "markdown",
      "metadata": {
        "id": "qiVy26pB4I74"
      },
      "source": [
        "# Inference and Validation\n",
        "\n",
        "Now that you have a trained network, you can use it for making predictions. This is typically called **inference**, a term borrowed from statistics. However, neural networks have a tendency to perform *too well* on the training data and aren't able to generalize to data that hasn't been seen before. This is called **overfitting** and it impairs inference performance. To test for overfitting while training, we measure the performance on data not in the training set called the **validation** set. We avoid overfitting through regularization such as dropout while monitoring the validation performance during training. In this notebook, I'll show you how to do this in PyTorch.\n",
        "\n",
        "As usual, let's start by loading the dataset through torchvision. You'll learn more about torchvision and loading data in a later part. This time we'll be taking advantage of the test set which you can get by setting `train=False` here:\n",
        "\n",
        "```python\n",
        "testset = datasets.FashionMNIST('~/.pytorch/F_MNIST_data/', download=True, train=False, transform=transform)\n",
        "```\n",
        "\n",
        "The test set contains images just like the training set. Typically you'll see 10-20% of the original dataset held out for testing and validation with the rest being used for training."
      ]
    },
    {
      "cell_type": "code",
      "execution_count": 1,
      "metadata": {
        "colab": {
          "base_uri": "https://localhost:8080/"
        },
        "id": "ShlFK0nT4I76",
        "outputId": "74408195-9a4a-4232-a525-d5fc30d45fdb"
      },
      "outputs": [
        {
          "output_type": "stream",
          "name": "stdout",
          "text": [
            "Downloading http://fashion-mnist.s3-website.eu-central-1.amazonaws.com/train-images-idx3-ubyte.gz\n",
            "Downloading http://fashion-mnist.s3-website.eu-central-1.amazonaws.com/train-images-idx3-ubyte.gz to /root/.pytorch/F_MNIST_data/FashionMNIST/raw/train-images-idx3-ubyte.gz\n"
          ]
        },
        {
          "output_type": "stream",
          "name": "stderr",
          "text": [
            "100%|██████████| 26421880/26421880 [00:02<00:00, 11594077.34it/s]\n"
          ]
        },
        {
          "output_type": "stream",
          "name": "stdout",
          "text": [
            "Extracting /root/.pytorch/F_MNIST_data/FashionMNIST/raw/train-images-idx3-ubyte.gz to /root/.pytorch/F_MNIST_data/FashionMNIST/raw\n",
            "\n",
            "Downloading http://fashion-mnist.s3-website.eu-central-1.amazonaws.com/train-labels-idx1-ubyte.gz\n",
            "Downloading http://fashion-mnist.s3-website.eu-central-1.amazonaws.com/train-labels-idx1-ubyte.gz to /root/.pytorch/F_MNIST_data/FashionMNIST/raw/train-labels-idx1-ubyte.gz\n"
          ]
        },
        {
          "output_type": "stream",
          "name": "stderr",
          "text": [
            "100%|██████████| 29515/29515 [00:00<00:00, 209465.03it/s]\n"
          ]
        },
        {
          "output_type": "stream",
          "name": "stdout",
          "text": [
            "Extracting /root/.pytorch/F_MNIST_data/FashionMNIST/raw/train-labels-idx1-ubyte.gz to /root/.pytorch/F_MNIST_data/FashionMNIST/raw\n",
            "\n",
            "Downloading http://fashion-mnist.s3-website.eu-central-1.amazonaws.com/t10k-images-idx3-ubyte.gz\n",
            "Downloading http://fashion-mnist.s3-website.eu-central-1.amazonaws.com/t10k-images-idx3-ubyte.gz to /root/.pytorch/F_MNIST_data/FashionMNIST/raw/t10k-images-idx3-ubyte.gz\n"
          ]
        },
        {
          "output_type": "stream",
          "name": "stderr",
          "text": [
            "100%|██████████| 4422102/4422102 [00:01<00:00, 3931351.38it/s]\n"
          ]
        },
        {
          "output_type": "stream",
          "name": "stdout",
          "text": [
            "Extracting /root/.pytorch/F_MNIST_data/FashionMNIST/raw/t10k-images-idx3-ubyte.gz to /root/.pytorch/F_MNIST_data/FashionMNIST/raw\n",
            "\n",
            "Downloading http://fashion-mnist.s3-website.eu-central-1.amazonaws.com/t10k-labels-idx1-ubyte.gz\n",
            "Downloading http://fashion-mnist.s3-website.eu-central-1.amazonaws.com/t10k-labels-idx1-ubyte.gz to /root/.pytorch/F_MNIST_data/FashionMNIST/raw/t10k-labels-idx1-ubyte.gz\n"
          ]
        },
        {
          "output_type": "stream",
          "name": "stderr",
          "text": [
            "100%|██████████| 5148/5148 [00:00<00:00, 21273179.30it/s]"
          ]
        },
        {
          "output_type": "stream",
          "name": "stdout",
          "text": [
            "Extracting /root/.pytorch/F_MNIST_data/FashionMNIST/raw/t10k-labels-idx1-ubyte.gz to /root/.pytorch/F_MNIST_data/FashionMNIST/raw\n",
            "\n"
          ]
        },
        {
          "output_type": "stream",
          "name": "stderr",
          "text": [
            "\n"
          ]
        }
      ],
      "source": [
        "import torch\n",
        "from torchvision import datasets, transforms\n",
        "\n",
        "# Define a transform to normalize the data\n",
        "transform = transforms.Compose([transforms.ToTensor(),\n",
        "                                transforms.Normalize((0.5,), (0.5,))])\n",
        "# Download and load the training data\n",
        "trainset = datasets.FashionMNIST('~/.pytorch/F_MNIST_data/', download=True, train=True, transform=transform)\n",
        "trainloader = torch.utils.data.DataLoader(trainset, batch_size=64, shuffle=True)\n",
        "\n",
        "# Download and load the test data\n",
        "testset = datasets.FashionMNIST('~/.pytorch/F_MNIST_data/', download=True, train=False, transform=transform)\n",
        "testloader = torch.utils.data.DataLoader(testset, batch_size=64, shuffle=True)"
      ]
    },
    {
      "cell_type": "markdown",
      "metadata": {
        "id": "XHT0yS-l4I76"
      },
      "source": [
        "Here I'll create a model like normal, using the same one from my solution for part 4."
      ]
    },
    {
      "cell_type": "code",
      "execution_count": 2,
      "metadata": {
        "id": "ZcwJfaZt4I76"
      },
      "outputs": [],
      "source": [
        "from torch import nn, optim\n",
        "import torch.nn.functional as F\n",
        "\n",
        "class Classifier(nn.Module):\n",
        "    def __init__(self):\n",
        "        super().__init__()\n",
        "        self.fc1 = nn.Linear(784, 256)\n",
        "        self.fc2 = nn.Linear(256, 128)\n",
        "        self.fc3 = nn.Linear(128, 64)\n",
        "        self.fc4 = nn.Linear(64, 10)\n",
        "\n",
        "    def forward(self, x):\n",
        "        # make sure input tensor is flattened\n",
        "        x = x.view(x.shape[0], -1)\n",
        "\n",
        "        x = F.relu(self.fc1(x))\n",
        "        x = F.relu(self.fc2(x))\n",
        "        x = F.relu(self.fc3(x))\n",
        "        x = F.log_softmax(self.fc4(x), dim=1)\n",
        "\n",
        "        return x"
      ]
    },
    {
      "cell_type": "markdown",
      "metadata": {
        "id": "v_Y9PcKH4I77"
      },
      "source": [
        "The goal of validation is to measure the model's performance on data that isn't part of the training set. Performance here is up to the developer to define though. Typically this is just accuracy, the percentage of classes the network predicted correctly. Other options are [precision and recall](https://en.wikipedia.org/wiki/Precision_and_recall#Definition_(classification_context)) and top-5 error rate. We'll focus on accuracy here. First I'll do a forward pass with one batch from the test set."
      ]
    },
    {
      "cell_type": "code",
      "execution_count": 3,
      "metadata": {
        "colab": {
          "base_uri": "https://localhost:8080/"
        },
        "id": "mpCk5uX24I77",
        "outputId": "f234d578-3d05-434a-8ab6-c1e8d40a5ac6"
      },
      "outputs": [
        {
          "output_type": "stream",
          "name": "stdout",
          "text": [
            "torch.Size([64, 10])\n"
          ]
        }
      ],
      "source": [
        "model = Classifier()\n",
        "\n",
        "images, labels = next(iter(testloader))\n",
        "# Get the class probabilities\n",
        "ps = torch.exp(model(images))\n",
        "# Make sure the shape is appropriate, we should get 10 class probabilities for 64 examples\n",
        "print(ps.shape)"
      ]
    },
    {
      "cell_type": "markdown",
      "metadata": {
        "id": "EpH6ibCF4I77"
      },
      "source": [
        "With the probabilities, we can get the most likely class using the `ps.topk` method. This returns the $k$ highest values. Since we just want the most likely class, we can use `ps.topk(1)`. This returns a tuple of the top-$k$ values and the top-$k$ indices. If the highest value is the fifth element, we'll get back 4 as the index."
      ]
    },
    {
      "cell_type": "code",
      "execution_count": 4,
      "metadata": {
        "colab": {
          "base_uri": "https://localhost:8080/"
        },
        "id": "jZau34Iy4I77",
        "outputId": "c5d6ae53-f833-4b5f-d5a6-710e8ee4f015"
      },
      "outputs": [
        {
          "output_type": "stream",
          "name": "stdout",
          "text": [
            "tensor([[0],\n",
            "        [0],\n",
            "        [0],\n",
            "        [0],\n",
            "        [0],\n",
            "        [0],\n",
            "        [0],\n",
            "        [0],\n",
            "        [0],\n",
            "        [0]])\n"
          ]
        }
      ],
      "source": [
        "top_p, top_class = ps.topk(1, dim=1)\n",
        "# Look at the most likely classes for the first 10 examples\n",
        "print(top_class[:10,:])"
      ]
    },
    {
      "cell_type": "markdown",
      "metadata": {
        "id": "Jin9N4kT4I77"
      },
      "source": [
        "Now we can check if the predicted classes match the labels. This is simple to do by equating `top_class` and `labels`, but we have to be careful of the shapes. Here `top_class` is a 2D tensor with shape `(64, 1)` while `labels` is 1D with shape `(64)`. To get the equality to work out the way we want, `top_class` and `labels` must have the same shape.\n",
        "\n",
        "If we do\n",
        "\n",
        "```python\n",
        "equals = top_class == labels\n",
        "```\n",
        "\n",
        "`equals` will have shape `(64, 64)`, try it yourself. What it's doing is comparing the one element in each row of `top_class` with each element in `labels` which returns 64 True/False boolean values for each row."
      ]
    },
    {
      "cell_type": "code",
      "execution_count": 5,
      "metadata": {
        "id": "vumeeJA14I78"
      },
      "outputs": [],
      "source": [
        "equals = top_class == labels.view(*top_class.shape)"
      ]
    },
    {
      "cell_type": "markdown",
      "metadata": {
        "id": "ekLrgWHa4I78"
      },
      "source": [
        "Now we need to calculate the percentage of correct predictions. `equals` has binary values, either 0 or 1. This means that if we just sum up all the values and divide by the number of values, we get the percentage of correct predictions. This is the same operation as taking the mean, so we can get the accuracy with a call to `torch.mean`. If only it was that simple. If you try `torch.mean(equals)`, you'll get an error\n",
        "\n",
        "```\n",
        "RuntimeError: mean is not implemented for type torch.ByteTensor\n",
        "```\n",
        "\n",
        "This happens because `equals` has type `torch.ByteTensor` but `torch.mean` isn't implemented for tensors with that type. So we'll need to convert `equals` to a float tensor. Note that when we take `torch.mean` it returns a scalar tensor, to get the actual value as a float we'll need to do `accuracy.item()`."
      ]
    },
    {
      "cell_type": "code",
      "execution_count": 6,
      "metadata": {
        "colab": {
          "base_uri": "https://localhost:8080/"
        },
        "id": "kxXi7f3N4I78",
        "outputId": "13761bd2-75a0-41f6-ee44-1a428a2fddf8"
      },
      "outputs": [
        {
          "output_type": "stream",
          "name": "stdout",
          "text": [
            "Accuracy: 7.8125%\n"
          ]
        }
      ],
      "source": [
        "accuracy = torch.mean(equals.type(torch.FloatTensor))\n",
        "print(f'Accuracy: {accuracy.item()*100}%')"
      ]
    },
    {
      "cell_type": "markdown",
      "metadata": {
        "id": "IPPmcDaG4I78"
      },
      "source": [
        "The network is untrained so it's making random guesses and we should see an accuracy around 10%. Now let's train our network and include our validation pass so we can measure how well the network is performing on the test set. Since we're not updating our parameters in the validation pass, we can speed up our code by turning off gradients using `torch.no_grad()`:\n",
        "\n",
        "```python\n",
        "# turn off gradients\n",
        "with torch.no_grad():\n",
        "    # validation pass here\n",
        "    for images, labels in testloader:\n",
        "        ...\n",
        "```\n",
        "\n",
        ">**Exercise:** Implement the validation loop below and print out the total accuracy after the loop. You can largely copy and paste the code from above, but I suggest typing it in because writing it out yourself is essential for building the skill. In general you'll always learn more by typing it rather than copy-pasting. You should be able to get an accuracy above 80%."
      ]
    },
    {
      "cell_type": "code",
      "execution_count": 8,
      "metadata": {
        "colab": {
          "base_uri": "https://localhost:8080/"
        },
        "id": "yj-twqzp4I78",
        "outputId": "1fba5138-adbb-4fa4-c9f8-13a8a4de9479"
      },
      "outputs": [
        {
          "output_type": "stream",
          "name": "stdout",
          "text": [
            "For epoch 1/30, accuracy is:82.564 %\n",
            "For epoch 2/30, accuracy is:84.932 %\n",
            "For epoch 3/30, accuracy is:86.166 %\n",
            "For epoch 4/30, accuracy is:86.176 %\n",
            "For epoch 5/30, accuracy is:87.191 %\n",
            "For epoch 6/30, accuracy is:86.495 %\n",
            "For epoch 7/30, accuracy is:87.191 %\n",
            "For epoch 8/30, accuracy is:86.385 %\n",
            "For epoch 9/30, accuracy is:87.659 %\n",
            "For epoch 10/30, accuracy is:87.391 %\n",
            "For epoch 11/30, accuracy is:87.958 %\n",
            "For epoch 12/30, accuracy is:87.828 %\n",
            "For epoch 13/30, accuracy is:87.858 %\n",
            "For epoch 14/30, accuracy is:88.475 %\n",
            "For epoch 15/30, accuracy is:87.898 %\n",
            "For epoch 16/30, accuracy is:88.027 %\n",
            "For epoch 17/30, accuracy is:87.998 %\n",
            "For epoch 18/30, accuracy is:88.097 %\n",
            "For epoch 19/30, accuracy is:87.998 %\n",
            "For epoch 20/30, accuracy is:88.396 %\n",
            "For epoch 21/30, accuracy is:88.018 %\n",
            "For epoch 22/30, accuracy is:88.097 %\n",
            "For epoch 23/30, accuracy is:88.057 %\n",
            "For epoch 24/30, accuracy is:87.341 %\n",
            "For epoch 25/30, accuracy is:88.137 %\n",
            "For epoch 26/30, accuracy is:88.376 %\n",
            "For epoch 27/30, accuracy is:88.346 %\n",
            "For epoch 28/30, accuracy is:88.057 %\n",
            "For epoch 29/30, accuracy is:88.336 %\n",
            "For epoch 30/30, accuracy is:88.575 %\n"
          ]
        }
      ],
      "source": [
        "model = Classifier()\n",
        "criterion = nn.NLLLoss()\n",
        "optimizer = optim.Adam(model.parameters(), lr=0.003)\n",
        "\n",
        "epochs = 30\n",
        "steps = 0\n",
        "train_loss_list=[]\n",
        "test_loss_list=[]\n",
        "\n",
        "for e in range(epochs):\n",
        "    running_loss = 0\n",
        "    for images, labels in trainloader:\n",
        "\n",
        "        optimizer.zero_grad()\n",
        "\n",
        "        log_ps = model(images)\n",
        "        loss = criterion(log_ps, labels)\n",
        "        loss.backward()\n",
        "        optimizer.step()\n",
        "\n",
        "        running_loss += loss.item()\n",
        "\n",
        "    else:\n",
        "        train_loss_list.append(running_loss/len(trainloader))\n",
        "        ## TODO: Implement the validation pass and print out the validation accuracy\n",
        "        # doesn't use torch's autograd and makes calculations faster\n",
        "        with torch.no_grad():\n",
        "          accuracy=0\n",
        "          test_loss=0\n",
        "          # passes through all batches\n",
        "          for images, labels in testloader:\n",
        "            log_ps=model(images)\n",
        "            test_loss+=criterion(log_ps,labels)\n",
        "            probs=torch.exp(log_ps)\n",
        "            top_probs, top_class=probs.topk(1,dim=1)\n",
        "            batch_accuracy= top_class==labels.view(*top_class.shape)\n",
        "            batch_accuracy=torch.mean(batch_accuracy.to(dtype=torch.float64))\n",
        "            accuracy+=batch_accuracy/len(testloader)\n",
        "        test_loss_list.append(test_loss/len(testloader))\n",
        "        print(f\"For epoch {e+1}/{epochs}, accuracy is:\", end=\"\")\n",
        "        print(\"{0:.3f}\".format(accuracy.item()*100),\"%\")"
      ]
    },
    {
      "cell_type": "markdown",
      "source": [
        "It seems like our model was training well, but let's test for overfitting because as you can see the model's accuracy decreases at some points and that's a sign of overfitting. Let's compare the training and test losses."
      ],
      "metadata": {
        "id": "4xieozpfG3KI"
      }
    },
    {
      "cell_type": "code",
      "source": [
        "import matplotlib.pyplot as plt"
      ],
      "metadata": {
        "id": "xaOuKO6fItwL"
      },
      "execution_count": 10,
      "outputs": []
    },
    {
      "cell_type": "code",
      "source": [
        "plt.plot(train_loss_list,label=\"Train Loss\")\n",
        "plt.plot(test_loss_list, label=\"Test Loss\")\n",
        "plt.legend()"
      ],
      "metadata": {
        "colab": {
          "base_uri": "https://localhost:8080/",
          "height": 448
        },
        "id": "WZD2IsnyIiVU",
        "outputId": "71480da5-7fea-473d-b50f-05521c611879"
      },
      "execution_count": 13,
      "outputs": [
        {
          "output_type": "execute_result",
          "data": {
            "text/plain": [
              "<matplotlib.legend.Legend at 0x7a22851547f0>"
            ]
          },
          "metadata": {},
          "execution_count": 13
        },
        {
          "output_type": "display_data",
          "data": {
            "text/plain": [
              "<Figure size 640x480 with 1 Axes>"
            ],
            "image/png": "[encoded data removed]"
          },
          "metadata": {}
        }
      ]
    },
    {
      "cell_type": "markdown",
      "source": [
        "As you can see the thye training loss is decreasing and the test loss increase at some point. Meaning most of our epochs made the model overfit, passing the \"Goldilocks Zone\"."
      ],
      "metadata": {
        "id": "s8x_DZJtLLLr"
      }
    },
    {
      "cell_type": "markdown",
      "metadata": {
        "id": "kfoaNkn44I78"
      },
      "source": [
        "## Overfitting\n",
        "\n",
        "If we look at the training and validation losses as we train the network, we can see a phenomenon known as overfitting.\n",
        "\n",
        "<img src='assets/overfitting.png' width=450px>\n",
        "\n",
        "The network learns the training set better and better, resulting in lower training losses. However, it starts having problems generalizing to data outside the training set leading to the validation loss increasing. The ultimate goal of any deep learning model is to make predictions on new data, so we should strive to get the lowest validation loss possible. One option is to use the version of the model with the lowest validation loss, here the one around 8-10 training epochs. This strategy is called *early-stopping*. In practice, you'd save the model frequently as you're training then later choose the model with the lowest validation loss.\n",
        "\n",
        "The most common method to reduce overfitting (outside of early-stopping) is *dropout*, where we randomly drop input units. This forces the network to share information between weights, increasing it's ability to generalize to new data. Adding dropout in PyTorch is straightforward using the [`nn.Dropout`](https://pytorch.org/docs/stable/nn.html#torch.nn.Dropout) module.\n",
        "\n",
        "```python\n",
        "class Classifier(nn.Module):\n",
        "    def __init__(self):\n",
        "        super().__init__()\n",
        "        self.fc1 = nn.Linear(784, 256)\n",
        "        self.fc2 = nn.Linear(256, 128)\n",
        "        self.fc3 = nn.Linear(128, 64)\n",
        "        self.fc4 = nn.Linear(64, 10)\n",
        "        \n",
        "        # Dropout module with 0.2 drop probability\n",
        "        self.dropout = nn.Dropout(p=0.2)\n",
        "        \n",
        "    def forward(self, x):\n",
        "        # make sure input tensor is flattened\n",
        "        x = x.view(x.shape[0], -1)\n",
        "        \n",
        "        # Now with dropout\n",
        "        x = self.dropout(F.relu(self.fc1(x)))\n",
        "        x = self.dropout(F.relu(self.fc2(x)))\n",
        "        x = self.dropout(F.relu(self.fc3(x)))\n",
        "        \n",
        "        # output so no dropout here\n",
        "        x = F.log_softmax(self.fc4(x), dim=1)\n",
        "        \n",
        "        return x\n",
        "```\n",
        "\n",
        "During training we want to use dropout to prevent overfitting, but during inference we want to use the entire network. So, we need to turn off dropout during validation, testing, and whenever we're using the network to make predictions. To do this, you use `model.eval()`. This sets the model to evaluation mode where the dropout probability is 0. You can turn dropout back on by setting the model to train mode with `model.train()`. In general, the pattern for the validation loop will look like this, where you turn off gradients, set the model to evaluation mode, calculate the validation loss and metric, then set the model back to train mode.\n",
        "\n",
        "```python\n",
        "# turn off gradients\n",
        "with torch.no_grad():\n",
        "    \n",
        "    # set model to evaluation mode\n",
        "    model.eval()\n",
        "    \n",
        "    # validation pass here\n",
        "    for images, labels in testloader:\n",
        "        ...\n",
        "\n",
        "# set model back to train mode\n",
        "model.train()\n",
        "```"
      ]
    },
    {
      "cell_type": "markdown",
      "metadata": {
        "id": "kuGJxeUh4I78"
      },
      "source": [
        "> **Exercise:** Add dropout to your model and train it on Fashion-MNIST again. See if you can get a lower validation loss or higher accuracy."
      ]
    },
    {
      "cell_type": "code",
      "execution_count": 26,
      "metadata": {
        "id": "m7bxGO-64I78"
      },
      "outputs": [],
      "source": [
        "## TODO: Define your model with dropout added\n",
        "model_dropout=nn.Sequential(nn.Linear(784,256),\n",
        "                            nn.ReLU(),\n",
        "                            nn.Dropout(p=0.2),\n",
        "                            nn.Linear(256,128),\n",
        "                            nn.ReLU(),\n",
        "                            nn.Dropout(p=0.2),\n",
        "                            nn.Linear(128,64),\n",
        "                            nn.ReLU(),\n",
        "                            nn.Dropout(p=0.2),\n",
        "                            nn.Linear(64,10),\n",
        "                            nn.LogSoftmax(dim=1))\n"
      ]
    },
    {
      "cell_type": "code",
      "execution_count": 27,
      "metadata": {
        "colab": {
          "base_uri": "https://localhost:8080/"
        },
        "id": "APtGnOmb4I79",
        "outputId": "d30efe4a-2d3a-4217-be85-b373dea9b3ec"
      },
      "outputs": [
        {
          "output_type": "stream",
          "name": "stdout",
          "text": [
            "For epoch 0/25, Accuracy is   83.469 %\n",
            "For epoch 1/25, Accuracy is   83.917 %\n",
            "For epoch 2/25, Accuracy is   83.838 %\n",
            "For epoch 3/25, Accuracy is   84.763 %\n",
            "For epoch 4/25, Accuracy is   85.131 %\n",
            "For epoch 5/25, Accuracy is   84.474 %\n",
            "For epoch 6/25, Accuracy is   86.146 %\n",
            "For epoch 7/25, Accuracy is   85.619 %\n",
            "For epoch 8/25, Accuracy is   85.659 %\n",
            "For epoch 9/25, Accuracy is   86.077 %\n",
            "For epoch 10/25, Accuracy is   86.923 %\n",
            "For epoch 11/25, Accuracy is   86.336 %\n",
            "For epoch 12/25, Accuracy is   86.803 %\n",
            "For epoch 13/25, Accuracy is   86.724 %\n",
            "For epoch 14/25, Accuracy is   86.744 %\n",
            "For epoch 15/25, Accuracy is   87.162 %\n",
            "For epoch 16/25, Accuracy is   86.833 %\n",
            "For epoch 17/25, Accuracy is   86.973 %\n",
            "For epoch 18/25, Accuracy is   86.813 %\n",
            "For epoch 19/25, Accuracy is   84.833 %\n",
            "For epoch 20/25, Accuracy is   86.823 %\n",
            "For epoch 21/25, Accuracy is   87.410 %\n",
            "For epoch 22/25, Accuracy is   86.057 %\n",
            "For epoch 23/25, Accuracy is   86.405 %\n",
            "For epoch 24/25, Accuracy is   87.152 %\n"
          ]
        }
      ],
      "source": [
        "## TODO: Train your model with dropout, and monitor the training progress with the validation loss and accuracy\n",
        "num_epochs=25\n",
        "criterion=nn.NLLLoss()\n",
        "optimizer=optim.Adam(model_dropout.parameters(),lr=0.003)\n",
        "train_loss_list=[]\n",
        "test_loss_list=[]\n",
        "\n",
        "for e in range(num_epochs):\n",
        "  train_loss=0\n",
        "  for images, labels in trainloader:\n",
        "    images=images.view(images.shape[0],-1)\n",
        "    #0) make sure to zero gradients to avoid accumulation\n",
        "    optimizer.zero_grad()\n",
        "    #1) forward pass the model\n",
        "    log_ps=model_dropout(images)\n",
        "    #2) measure loss\n",
        "    loss=criterion(log_ps,labels)\n",
        "    train_loss+=loss\n",
        "    #3) backpropagate\n",
        "    loss.backward()\n",
        "    #4) take an optimizer step\n",
        "    optimizer.step()\n",
        "  else:\n",
        "    train_loss_list.append(train_loss.item()/len(trainloader))\n",
        "    test_loss=0\n",
        "    accuracy=0\n",
        "    with torch.no_grad():\n",
        "      for images, labels in testloader:\n",
        "        images=images.view(images.shape[0],-1)\n",
        "        # turn off dropout ie use the whole model to evaluate\n",
        "        model_dropout.eval()\n",
        "        # forward pass\n",
        "        log_ps=model_dropout(images)\n",
        "        probs=torch.exp(log_ps)\n",
        "        # measure loss\n",
        "        loss=criterion(log_ps,labels)\n",
        "        test_loss+=loss\n",
        "        # measure accuracy\n",
        "        ### ensure that you get the topk on the correct dim(=1 for columns)\n",
        "        top_prob, top_class=probs.topk(1,dim=1)\n",
        "        batch_accuracy=top_class==labels.view(*top_class.shape)\n",
        "        batch_accuracy=torch.mean(batch_accuracy.to(torch.float32))\n",
        "        accuracy+=batch_accuracy/len(testloader)\n",
        "\n",
        "      # append to test loss list\n",
        "      test_loss_list.append(test_loss.item()/len(testloader))\n",
        "      # print accuracy\n",
        "      print(f\"For epoch {e}/{num_epochs}, Accuracy is  \", \"{0:.3f}\".format(accuracy.item()*100),\"%\")\n",
        "      # don't forget to return to train mode, for dropout to work\n",
        "      model_dropout.train()\n",
        "\n",
        "\n",
        "\n",
        "\n",
        "\n"
      ]
    },
    {
      "cell_type": "markdown",
      "source": [
        "Let's now see the Model-Complexity Graph again and see how good the model performs after dropout"
      ],
      "metadata": {
        "id": "_r5J3WIDTG1U"
      }
    },
    {
      "cell_type": "code",
      "source": [
        "plt.plot(train_loss_list,label=\"Train Loss\")\n",
        "plt.plot(test_loss_list,label=\"Test Loss\")\n",
        "plt.legend(frameon=False)\n",
        "plt.title(\"Model-Complexity Graph (w/ dropout)\")"
      ],
      "metadata": {
        "colab": {
          "base_uri": "https://localhost:8080/",
          "height": 470
        },
        "id": "kF8cGKfBTWzj",
        "outputId": "a0c8f262-27e3-4787-dba6-164c16ce6f37"
      },
      "execution_count": 28,
      "outputs": [
        {
          "output_type": "execute_result",
          "data": {
            "text/plain": [
              "Text(0.5, 1.0, 'Model-Complexity Graph (w/ dropout)')"
            ]
          },
          "metadata": {},
          "execution_count": 28
        },
        {
          "output_type": "display_data",
          "data": {
            "text/plain": [
              "<Figure size 640x480 with 1 Axes>"
            ],
            "image/png": "[encoded data removed]"
          },
          "metadata": {}
        }
      ]
    },
    {
      "cell_type": "markdown",
      "metadata": {
        "id": "O7-XfzGi4I79"
      },
      "source": [
        "## Inference\n",
        "\n",
        "Now that the model is trained, we can use it for inference. We've done this before, but now we need to remember to set the model in inference mode with `model.eval()`. You'll also want to turn off autograd with the `torch.no_grad()` context."
      ]
    },
    {
      "cell_type": "code",
      "execution_count": 30,
      "metadata": {
        "colab": {
          "base_uri": "https://localhost:8080/",
          "height": 319
        },
        "id": "99KRnwNz4I79",
        "outputId": "482446f1-5ef5-41d7-d0aa-e4fc808053b8"
      },
      "outputs": [
        {
          "output_type": "display_data",
          "data": {
            "text/plain": [
              "<Figure size 600x900 with 2 Axes>"
            ],
            "image/png": "[encoded data removed]"
          },
          "metadata": {}
        }
      ],
      "source": [
        "# Import helper module (should be in the repo)\n",
        "import helper\n",
        "\n",
        "# Test out your network!\n",
        "\n",
        "model.eval()\n",
        "\n",
        "dataiter = iter(testloader)\n",
        "images, labels = next(dataiter)\n",
        "img = images[0]\n",
        "# Convert 2D image to 1D vector\n",
        "img = img.view(1, 784)\n",
        "\n",
        "# Calculate the class probabilities (softmax) for img\n",
        "with torch.no_grad():\n",
        "    output = model.forward(img)\n",
        "\n",
        "ps = torch.exp(output)\n",
        "\n",
        "# Plot the image and probabilities\n",
        "helper.view_classify(img.view(1, 28, 28), ps, version='Fashion')"
      ]
    },
    {
      "cell_type": "markdown",
      "metadata": {
        "id": "VZ1sjYeZ4I79"
      },
      "source": [
        "## Next Up!\n",
        "\n",
        "In the next part, I'll show you how to save your trained models. In general, you won't want to train a model everytime you need it. Instead, you'll train once, save it, then load the model when you want to train more or use if for inference."
      ]
    }
  ],
  "metadata": {
    "kernelspec": {
      "display_name": "Python 3",
      "name": "python3"
    },
    "language_info": {
      "codemirror_mode": {
        "name": "ipython",
        "version": 3
      },
      "file_extension": ".py",
      "mimetype": "text/x-python",
      "name": "python",
      "nbconvert_exporter": "python",
      "pygments_lexer": "ipython3",
      "version": "3.6.6"
    },
    "colab": {
      "provenance": [],
      "gpuType": "T4"
    },
    "accelerator": "GPU"
  },
  "nbformat": 4,
  "nbformat_minor": 0
}